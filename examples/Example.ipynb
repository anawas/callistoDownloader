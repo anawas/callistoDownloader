{
 "cells": [
  {
   "cell_type": "code",
   "execution_count": 9,
   "id": "8c9968ba-3aa4-45ba-85f0-57501e752d25",
   "metadata": {},
   "outputs": [],
   "source": [
    "from callistoDownloader import callistoDownloader as cd"
   ]
  },
  {
   "cell_type": "markdown",
   "id": "c43aa442-5a95-4f07-9076-6c77f857fe5e",
   "metadata": {},
   "source": [
    "##### Displays all the years for which spectrograms are available\n",
    "\n",
    "\n"
   ]
  },
  {
   "cell_type": "code",
   "execution_count": 10,
   "id": "2a6ae455-84d3-427b-9d00-c78094b7838a",
   "metadata": {},
   "outputs": [
    {
     "name": "stdout",
     "output_type": "stream",
     "text": [
      "1978\t1979\t1980\t1981\t1982\t1983\t1984\t1985\t1986\t1988\t1989\t1990\t1991\t1992\t1993\t1994\t1998\t1999\t2000\t2001\t2002\t2003\t2004\t2005\t2006\t2007\t2008\t2009\t2010\t2011\t2012\t2013\t2014\t2015\t2016\t2017\t2018\t2019\t2020\t2021\t\n",
      "\n"
     ]
    }
   ],
   "source": [
    "cd.which_years()"
   ]
  },
  {
   "cell_type": "markdown",
   "id": "d6a43a26-31ca-4216-a306-3e379cca0bbc",
   "metadata": {},
   "source": [
    "##### Displays months for which data is available for a particular year\n",
    "\n"
   ]
  },
  {
   "cell_type": "code",
   "execution_count": 20,
   "id": "76515913-30e8-48be-ac8b-8e5df63c32cb",
   "metadata": {},
   "outputs": [
    {
     "name": "stdout",
     "output_type": "stream",
     "text": [
      "01\t03\t04\t05\t06\t07\t08\t09\t10\t11\t12\t\n",
      "\n"
     ]
    }
   ],
   "source": [
    "cd.which_months(1993)"
   ]
  },
  {
   "cell_type": "markdown",
   "id": "02343c1d-befb-401f-b2cf-c45132340b6b",
   "metadata": {},
   "source": [
    "##### Gives instructions for how to download data from a specific instrument\n"
   ]
  },
  {
   "cell_type": "code",
   "execution_count": 13,
   "id": "2994c19f-340e-4579-a8df-cbd63ccc451a",
   "metadata": {},
   "outputs": [
    {
     "name": "stdout",
     "output_type": "stream",
     "text": [
      "Visit http://soleil.i4ds.ch/solarradio/data/readme.txt\n",
      "If the file name is BLEN5M_20090411_100001_58.fit.gz; \t\t\n",
      "then the instrument code is the characters before the first underscore.\t\t\n",
      "which in this case is BLEN5M\t\t\n",
      "\n",
      "This will download all spectrograms from all antenna types at Blein, Switzerland\n"
     ]
    }
   ],
   "source": [
    "cd.instrument_codes()"
   ]
  },
  {
   "cell_type": "markdown",
   "id": "9091b267-6f4d-4af3-b1e4-4e771016e0e4",
   "metadata": {},
   "source": [
    "##### Suppose we want to download all the files from LPDA Gauribidanur Heliograph, the instrument code will be INDIA-GAURI"
   ]
  },
  {
   "cell_type": "markdown",
   "id": "2a41cb48-f644-48b5-82cf-31dd9607d6c4",
   "metadata": {},
   "source": [
    "![Example](images/screenshot1.png)"
   ]
  },
  {
   "cell_type": "markdown",
   "id": "b955d742-cee8-4f9f-a43e-62493147eb1a",
   "metadata": {},
   "source": [
    "##### Following code downloads the files from LPDA Gauribidanur Heliograph of 20 October, 2021"
   ]
  },
  {
   "cell_type": "code",
   "execution_count": 19,
   "id": "0c7015f1-68a6-4b49-aa4c-559993ebd754",
   "metadata": {},
   "outputs": [
    {
     "name": "stdout",
     "output_type": "stream",
     "text": [
      "http://soleil80.cs.technik.fhnw.ch/solarradio/data/2002-20yy_Callisto/2021/10/20/INDIA-GAURI_20211020_023000_59.fit.gz\n",
      "http://soleil80.cs.technik.fhnw.ch/solarradio/data/2002-20yy_Callisto/2021/10/20/INDIA-GAURI_20211020_024500_59.fit.gz\n",
      "http://soleil80.cs.technik.fhnw.ch/solarradio/data/2002-20yy_Callisto/2021/10/20/INDIA-GAURI_20211020_030000_59.fit.gz\n",
      "http://soleil80.cs.technik.fhnw.ch/solarradio/data/2002-20yy_Callisto/2021/10/20/INDIA-GAURI_20211020_031500_59.fit.gz\n",
      "http://soleil80.cs.technik.fhnw.ch/solarradio/data/2002-20yy_Callisto/2021/10/20/INDIA-GAURI_20211020_033000_59.fit.gz\n",
      "http://soleil80.cs.technik.fhnw.ch/solarradio/data/2002-20yy_Callisto/2021/10/20/INDIA-GAURI_20211020_034500_59.fit.gz\n",
      "http://soleil80.cs.technik.fhnw.ch/solarradio/data/2002-20yy_Callisto/2021/10/20/INDIA-GAURI_20211020_040000_59.fit.gz\n",
      "http://soleil80.cs.technik.fhnw.ch/solarradio/data/2002-20yy_Callisto/2021/10/20/INDIA-GAURI_20211020_041500_59.fit.gz\n",
      "http://soleil80.cs.technik.fhnw.ch/solarradio/data/2002-20yy_Callisto/2021/10/20/INDIA-GAURI_20211020_043000_59.fit.gz\n",
      "http://soleil80.cs.technik.fhnw.ch/solarradio/data/2002-20yy_Callisto/2021/10/20/INDIA-GAURI_20211020_044500_59.fit.gz\n",
      "http://soleil80.cs.technik.fhnw.ch/solarradio/data/2002-20yy_Callisto/2021/10/20/INDIA-GAURI_20211020_050000_59.fit.gz\n",
      "http://soleil80.cs.technik.fhnw.ch/solarradio/data/2002-20yy_Callisto/2021/10/20/INDIA-GAURI_20211020_051500_59.fit.gz\n",
      "http://soleil80.cs.technik.fhnw.ch/solarradio/data/2002-20yy_Callisto/2021/10/20/INDIA-GAURI_20211020_053000_59.fit.gz\n",
      "http://soleil80.cs.technik.fhnw.ch/solarradio/data/2002-20yy_Callisto/2021/10/20/INDIA-GAURI_20211020_054500_59.fit.gz\n",
      "http://soleil80.cs.technik.fhnw.ch/solarradio/data/2002-20yy_Callisto/2021/10/20/INDIA-GAURI_20211020_060000_59.fit.gz\n",
      "http://soleil80.cs.technik.fhnw.ch/solarradio/data/2002-20yy_Callisto/2021/10/20/INDIA-GAURI_20211020_061500_59.fit.gz\n",
      "http://soleil80.cs.technik.fhnw.ch/solarradio/data/2002-20yy_Callisto/2021/10/20/INDIA-GAURI_20211020_063000_59.fit.gz\n",
      "http://soleil80.cs.technik.fhnw.ch/solarradio/data/2002-20yy_Callisto/2021/10/20/INDIA-GAURI_20211020_064500_59.fit.gz\n",
      "http://soleil80.cs.technik.fhnw.ch/solarradio/data/2002-20yy_Callisto/2021/10/20/INDIA-GAURI_20211020_070001_59.fit.gz\n",
      "http://soleil80.cs.technik.fhnw.ch/solarradio/data/2002-20yy_Callisto/2021/10/20/INDIA-GAURI_20211020_071500_59.fit.gz\n",
      "http://soleil80.cs.technik.fhnw.ch/solarradio/data/2002-20yy_Callisto/2021/10/20/INDIA-GAURI_20211020_073000_59.fit.gz\n",
      "http://soleil80.cs.technik.fhnw.ch/solarradio/data/2002-20yy_Callisto/2021/10/20/INDIA-GAURI_20211020_074501_59.fit.gz\n",
      "http://soleil80.cs.technik.fhnw.ch/solarradio/data/2002-20yy_Callisto/2021/10/20/INDIA-GAURI_20211020_080000_59.fit.gz\n",
      "http://soleil80.cs.technik.fhnw.ch/solarradio/data/2002-20yy_Callisto/2021/10/20/INDIA-GAURI_20211020_081501_59.fit.gz\n",
      "http://soleil80.cs.technik.fhnw.ch/solarradio/data/2002-20yy_Callisto/2021/10/20/INDIA-GAURI_20211020_083001_59.fit.gz\n",
      "http://soleil80.cs.technik.fhnw.ch/solarradio/data/2002-20yy_Callisto/2021/10/20/INDIA-GAURI_20211020_084501_59.fit.gz\n",
      "http://soleil80.cs.technik.fhnw.ch/solarradio/data/2002-20yy_Callisto/2021/10/20/INDIA-GAURI_20211020_090001_59.fit.gz\n",
      "http://soleil80.cs.technik.fhnw.ch/solarradio/data/2002-20yy_Callisto/2021/10/20/INDIA-GAURI_20211020_091501_59.fit.gz\n",
      "http://soleil80.cs.technik.fhnw.ch/solarradio/data/2002-20yy_Callisto/2021/10/20/INDIA-GAURI_20211020_093001_59.fit.gz\n",
      "http://soleil80.cs.technik.fhnw.ch/solarradio/data/2002-20yy_Callisto/2021/10/20/INDIA-GAURI_20211020_094501_59.fit.gz\n",
      "http://soleil80.cs.technik.fhnw.ch/solarradio/data/2002-20yy_Callisto/2021/10/20/INDIA-GAURI_20211020_100001_59.fit.gz\n",
      "http://soleil80.cs.technik.fhnw.ch/solarradio/data/2002-20yy_Callisto/2021/10/20/INDIA-GAURI_20211020_101501_59.fit.gz\n",
      "http://soleil80.cs.technik.fhnw.ch/solarradio/data/2002-20yy_Callisto/2021/10/20/INDIA-GAURI_20211020_103001_59.fit.gz\n",
      "http://soleil80.cs.technik.fhnw.ch/solarradio/data/2002-20yy_Callisto/2021/10/20/INDIA-GAURI_20211020_104501_59.fit.gz\n",
      "http://soleil80.cs.technik.fhnw.ch/solarradio/data/2002-20yy_Callisto/2021/10/20/INDIA-GAURI_20211020_110001_59.fit.gz\n",
      "http://soleil80.cs.technik.fhnw.ch/solarradio/data/2002-20yy_Callisto/2021/10/20/INDIA-GAURI_20211020_111501_59.fit.gz\n",
      "2021-10-20 INDIA-GAURI files downloaded\n"
     ]
    }
   ],
   "source": [
    "cd.download(2021,10,20,'INDIA-GAURI')"
   ]
  },
  {
   "cell_type": "code",
   "execution_count": null,
   "id": "a60931a8-c8ec-488b-a4b0-6e2e78ee01fe",
   "metadata": {},
   "outputs": [],
   "source": []
  }
 ],
 "metadata": {
  "kernelspec": {
   "display_name": "Python 3 (ipykernel)",
   "language": "python",
   "name": "python3"
  },
  "language_info": {
   "codemirror_mode": {
    "name": "ipython",
    "version": 3
   },
   "file_extension": ".py",
   "mimetype": "text/x-python",
   "name": "python",
   "nbconvert_exporter": "python",
   "pygments_lexer": "ipython3",
   "version": "3.8.8"
  }
 },
 "nbformat": 4,
 "nbformat_minor": 5
}
