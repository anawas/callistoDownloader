{
 "cells": [
  {
   "cell_type": "code",
   "execution_count": 4,
   "id": "c9cab341-32bd-4df5-834f-1823a9dda369",
   "metadata": {},
   "outputs": [],
   "source": [
    "import callistoDownloader.callistoDownloader as cd"
   ]
  },
  {
   "cell_type": "code",
   "execution_count": 5,
   "id": "b530a88a-68df-4595-a305-3d36f75f309c",
   "metadata": {},
   "outputs": [
    {
     "name": "stdout",
     "output_type": "stream",
     "text": [
      "1978\t1979\t1980\t1981\t1982\t1983\t1984\t1985\t1986\t1988\t1989\t1990\t1991\t1992\t1993\t1994\t1998\t1999\t2000\t2001\t2002\t2003\t2004\t2005\t2006\t2007\t2008\t2009\t2010\t2011\t2012\t2013\t2014\t2015\t2016\t2017\t2018\t2019\t2020\t2021\t2022\t\n",
      "\n"
     ]
    }
   ],
   "source": [
    "cd.which_years()"
   ]
  },
  {
   "cell_type": "code",
   "execution_count": 6,
   "id": "dbe44e81-4bbe-4fc2-ad4f-099326f9563f",
   "metadata": {
    "tags": []
   },
   "outputs": [
    {
     "name": "stdout",
     "output_type": "stream",
     "text": [
      "36 files will be downloaded.\n"
     ]
    },
    {
     "name": "stderr",
     "output_type": "stream",
     "text": [
      "Downloading...: 100%|███████████████████████████████████████████████| 36/36 [03:34<00:00,  5.96s/it]"
     ]
    },
    {
     "name": "stdout",
     "output_type": "stream",
     "text": [
      "2021-04-07 ALASKA-ANCHORAGE filsdfes downloaded\n"
     ]
    },
    {
     "name": "stderr",
     "output_type": "stream",
     "text": [
      "\n"
     ]
    }
   ],
   "source": [
    "cd.download(2021,4,7, 'ALASKA-ANCHORAGE')"
   ]
  }
 ],
 "metadata": {
  "kernelspec": {
   "display_name": "Python 3 (ipykernel)",
   "language": "python",
   "name": "python3"
  },
  "language_info": {
   "codemirror_mode": {
    "name": "ipython",
    "version": 3
   },
   "file_extension": ".py",
   "mimetype": "text/x-python",
   "name": "python",
   "nbconvert_exporter": "python",
   "pygments_lexer": "ipython3",
   "version": "3.8.8"
  }
 },
 "nbformat": 4,
 "nbformat_minor": 5
}
